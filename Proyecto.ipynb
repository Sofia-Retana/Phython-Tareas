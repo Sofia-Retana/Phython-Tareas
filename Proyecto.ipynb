{
 "cells": [
  {
   "cell_type": "code",
   "execution_count": 9,
   "id": "6c46ee3a-7b97-4dfc-b7a8-3e1b7a7ee7f0",
   "metadata": {},
   "outputs": [
    {
     "name": "stdout",
     "output_type": "stream",
     "text": [
      "¡Hola! ¿Cómo te llamas?\n"
     ]
    },
    {
     "name": "stdin",
     "output_type": "stream",
     "text": [
      " h\n"
     ]
    },
    {
     "name": "stdout",
     "output_type": "stream",
     "text": [
      "Bueno, h, estoy pensando en un número entre 1 y 30.\n",
      "Trata de adivinar.\n"
     ]
    },
    {
     "name": "stdin",
     "output_type": "stream",
     "text": [
      " 7\n"
     ]
    },
    {
     "name": "stdout",
     "output_type": "stream",
     "text": [
      "Estás llendo muy arriba.\n",
      "Trata de adivinar.\n"
     ]
    },
    {
     "name": "stdin",
     "output_type": "stream",
     "text": [
      " 5\n"
     ]
    },
    {
     "name": "stdout",
     "output_type": "stream",
     "text": [
      "¡Excelente, h! ¡Adivinaste el número en 2 intentos!\n"
     ]
    }
   ],
   "source": [
    "#Adivina el número.\n",
    "\n",
    "import random\n",
    "\n",
    "intentosRealizados = 0\n",
    "\n",
    "print('¡Hola! ¿Cómo te llamas?')\n",
    "\n",
    "miNombre = input()\n",
    "\n",
    "número = random.randint(1, 30)\n",
    "\n",
    "print('Bueno, ' + miNombre + ', estoy pensando en un número entre 1 y 30.')\n",
    "\n",
    "while intentosRealizados < 5:\n",
    "\n",
    "    print('Trata de adivinar.')\n",
    "\n",
    "    estimación = input()\n",
    "\n",
    "    estimación = int(estimación)\n",
    "\n",
    "    intentosRealizados = intentosRealizados + 1\n",
    "\n",
    "    if estimación < número:\n",
    "\n",
    "        print('Aumenta el número.')\n",
    "\n",
    "    if estimación > número:\n",
    "\n",
    "        print('Estás llendo muy arriba.')\n",
    "\n",
    "    if estimación == número:\n",
    "        break\n",
    "\n",
    "if estimación == número:\n",
    "\n",
    "    intentosRealizados = str(intentosRealizados)\n",
    "    print('¡Excelente, ' + miNombre + '! ¡Adivinaste el número en ' + intentosRealizados + ' intentos!')\n",
    "\n",
    "if estimación != número:\n",
    "\n",
    "    número = str(número)\n",
    "    print('Perdiste. El número que estaba pensando era ' + número)"
   ]
  },
  {
   "cell_type": "code",
   "execution_count": null,
   "id": "f7432cfe-d9d3-4f72-8619-12752041c573",
   "metadata": {},
   "outputs": [],
   "source": []
  }
 ],
 "metadata": {
  "kernelspec": {
   "display_name": "Python 3",
   "language": "python",
   "name": "python3"
  },
  "language_info": {
   "codemirror_mode": {
    "name": "ipython",
    "version": 3
   },
   "file_extension": ".py",
   "mimetype": "text/x-python",
   "name": "python",
   "nbconvert_exporter": "python",
   "pygments_lexer": "ipython3",
   "version": "3.8.8"
  }
 },
 "nbformat": 4,
 "nbformat_minor": 5
}
