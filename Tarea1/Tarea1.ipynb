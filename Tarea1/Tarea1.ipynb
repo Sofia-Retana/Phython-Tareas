{
 "cells": [
  {
   "cell_type": "code",
   "execution_count": 2,
   "id": "e6ae427e-b25a-4378-a219-1fcdbaa150bc",
   "metadata": {},
   "outputs": [
    {
     "name": "stdout",
     "output_type": "stream",
     "text": [
      "Hola mundo\n"
     ]
    }
   ],
   "source": [
    "print (\"Hola mundo\")"
   ]
  },
  {
   "cell_type": "code",
   "execution_count": 3,
   "id": "4c50bbb8-f05a-4ea2-a47d-e5e1a20ce94b",
   "metadata": {},
   "outputs": [],
   "source": [
    "Nombre = \"Sofía Retana\"\n",
    "Edad = 15\n",
    "País = \"Costa Rica\""
   ]
  },
  {
   "cell_type": "code",
   "execution_count": 5,
   "id": "edbcc72e-610e-4c07-8f71-b5598e70ef0c",
   "metadata": {},
   "outputs": [
    {
     "name": "stdout",
     "output_type": "stream",
     "text": [
      "Sofía Retana 15 Costa Rica\n"
     ]
    }
   ],
   "source": [
    "print (Nombre,Edad,País)"
   ]
  },
  {
   "cell_type": "code",
   "execution_count": 6,
   "id": "62b064f0-03fd-4855-acfc-b24b2535424f",
   "metadata": {},
   "outputs": [
    {
     "data": {
      "text/plain": [
       "str"
      ]
     },
     "execution_count": 6,
     "metadata": {},
     "output_type": "execute_result"
    }
   ],
   "source": [
    "type (Nombre)"
   ]
  },
  {
   "cell_type": "code",
   "execution_count": 7,
   "id": "defeff1a-2f21-421c-8a84-b222fcddfdb9",
   "metadata": {},
   "outputs": [
    {
     "data": {
      "text/plain": [
       "int"
      ]
     },
     "execution_count": 7,
     "metadata": {},
     "output_type": "execute_result"
    }
   ],
   "source": [
    "type (Edad)"
   ]
  },
  {
   "cell_type": "code",
   "execution_count": 8,
   "id": "75f428d9-a072-4a77-a454-2f6f817429c6",
   "metadata": {},
   "outputs": [
    {
     "data": {
      "text/plain": [
       "str"
      ]
     },
     "execution_count": 8,
     "metadata": {},
     "output_type": "execute_result"
    }
   ],
   "source": [
    "type (País)"
   ]
  },
  {
   "cell_type": "code",
   "execution_count": 10,
   "id": "ba1cd287-c25c-441d-858f-8156054159ad",
   "metadata": {},
   "outputs": [
    {
     "name": "stdout",
     "output_type": "stream",
     "text": [
      "En astronomía, la clasificación estelar \n",
      "es la clasificación de las estrellas en \n",
      "función de sus características espectrales.\n"
     ]
    }
   ],
   "source": [
    "print (\"En astronomía, la clasificación estelar \\nes la clasificación de las estrellas en \\nfunción de sus características espectrales.\")"
   ]
  },
  {
   "cell_type": "code",
   "execution_count": 16,
   "id": "185d7c22-ed09-4eef-bd0f-fa7c9f7b7bb9",
   "metadata": {},
   "outputs": [
    {
     "name": "stdout",
     "output_type": "stream",
     "text": [
      "Hipergigantes---Subgigantes---Secuencia principal*"
     ]
    }
   ],
   "source": [
    "print (\"Hipergigantes\", \"Subgigantes\", \"Secuencia principal\", end = \"*\" , sep = \"---\")"
   ]
  },
  {
   "cell_type": "code",
   "execution_count": 18,
   "id": "4e81cc7f-6ba7-4d6f-90e9-5589d059a3af",
   "metadata": {},
   "outputs": [],
   "source": [
    "m_solar =  1,98892 * 10^30\n",
    "m_jupiter =  1,98892 * 10^30 * 1048"
   ]
  },
  {
   "cell_type": "code",
   "execution_count": 24,
   "id": "4ecc3c9f-9a46-401a-ba5a-7215708fd580",
   "metadata": {},
   "outputs": [
    {
     "name": "stdout",
     "output_type": "stream",
     "text": [
      " (1, 988902)   (1, 1010728) \n"
     ]
    }
   ],
   "source": [
    "print (f\" {m_solar} \",f\" {m_jupiter} \")"
   ]
  },
  {
   "cell_type": "code",
   "execution_count": 25,
   "id": "619f83f8-f7d9-48b2-994b-dd2dea53daec",
   "metadata": {},
   "outputs": [],
   "source": [
    "Mercurio = 0.389\n",
    "Venus = 0.723\n",
    "Marte = 1.524\n",
    "Júpiter = 5.203\n",
    "Saturno = 9.537"
   ]
  },
  {
   "cell_type": "code",
   "execution_count": 26,
   "id": "51b7224c-4c6b-44cb-99d8-47be8832f33f",
   "metadata": {},
   "outputs": [
    {
     "ename": "SyntaxError",
     "evalue": "invalid syntax (<ipython-input-26-1e76eae08535>, line 1)",
     "output_type": "error",
     "traceback": [
      "\u001b[1;36m  File \u001b[1;32m\"<ipython-input-26-1e76eae08535>\"\u001b[1;36m, line \u001b[1;32m1\u001b[0m\n\u001b[1;33m    print (True) if Mercurio 1\u001b[0m\n\u001b[1;37m                             ^\u001b[0m\n\u001b[1;31mSyntaxError\u001b[0m\u001b[1;31m:\u001b[0m invalid syntax\n"
     ]
    }
   ],
   "source": [
    "print (True) if Mercurio 1 \n",
    "if not print (False)"
   ]
  },
  {
   "cell_type": "code",
   "execution_count": null,
   "id": "e8ad2a7c-649b-44f9-9716-099d8197d0fa",
   "metadata": {},
   "outputs": [],
   "source": []
  }
 ],
 "metadata": {
  "kernelspec": {
   "display_name": "Python 3",
   "language": "python",
   "name": "python3"
  },
  "language_info": {
   "codemirror_mode": {
    "name": "ipython",
    "version": 3
   },
   "file_extension": ".py",
   "mimetype": "text/x-python",
   "name": "python",
   "nbconvert_exporter": "python",
   "pygments_lexer": "ipython3",
   "version": "3.8.8"
  }
 },
 "nbformat": 4,
 "nbformat_minor": 5
}
